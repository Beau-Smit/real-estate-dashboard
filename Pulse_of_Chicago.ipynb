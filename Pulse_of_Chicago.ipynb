{
 "cells": [
  {
   "cell_type": "markdown",
   "id": "c1274d83",
   "metadata": {},
   "source": [
    "# Pulse of Chicago Housing Market"
   ]
  },
  {
   "cell_type": "code",
   "execution_count": null,
   "id": "ef038687",
   "metadata": {},
   "outputs": [],
   "source": [
    "import pandas as pd\n",
    "import matplotlib.plotly as plt"
   ]
  },
  {
   "cell_type": "code",
   "execution_count": 1,
   "id": "b1ac6679",
   "metadata": {},
   "outputs": [],
   "source": [
    "ROOT = \"C:/Users/Beau/Documents/GitHub/RealEstate\"\n",
    "DATA_DIR = os.path.join(ROOT, \"data\", \"raw\", \"city_level\")"
   ]
  },
  {
   "cell_type": "code",
   "execution_count": null,
   "id": "d87d019d",
   "metadata": {},
   "outputs": [],
   "source": [
    "# read in datasets\n",
    "pd.read_csv(os.path.join(DATA_DIR, \"\"))"
   ]
  }
 ],
 "metadata": {
  "kernelspec": {
   "display_name": "Python 3 (ipykernel)",
   "language": "python",
   "name": "python3"
  },
  "language_info": {
   "codemirror_mode": {
    "name": "ipython",
    "version": 3
   },
   "file_extension": ".py",
   "mimetype": "text/x-python",
   "name": "python",
   "nbconvert_exporter": "python",
   "pygments_lexer": "ipython3",
   "version": "3.10.1"
  }
 },
 "nbformat": 4,
 "nbformat_minor": 5
}

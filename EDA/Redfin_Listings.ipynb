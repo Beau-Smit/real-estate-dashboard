{
 "cells": [
  {
   "cell_type": "code",
   "execution_count": 1,
   "id": "90b16531",
   "metadata": {},
   "outputs": [],
   "source": [
    "import pandas as pd\n",
    "import numpy as np\n",
    "import os\n",
    "import folium\n",
    "import map_functions"
   ]
  },
  {
   "cell_type": "code",
   "execution_count": 2,
   "id": "e5eb4251",
   "metadata": {},
   "outputs": [],
   "source": [
    "ROOT = \"C:/Users/Beau/Documents/GitHub/RealEstate\"\n",
    "RAW = os.path.join(ROOT, \"data\", \"raw\")\n",
    "SERIALIZED = os.path.join(ROOT, \"data\", \"serialized\")\n",
    "CLEANED = os.path.join(ROOT, \"data\", \"processed\")"
   ]
  },
  {
   "cell_type": "code",
   "execution_count": 4,
   "id": "5d630474",
   "metadata": {},
   "outputs": [],
   "source": [
    "# serialize data\n",
    "path = os.path.join(RAW, \"redfin_homes_sold_1_year.csv\")\n",
    "df = pd.read_csv(path)\n",
    "df.to_pickle(os.path.join(SERIALIZED, \"redfin_homes_sold_1_year.pkl\"))"
   ]
  },
  {
   "cell_type": "code",
   "execution_count": 5,
   "id": "c45da2d0",
   "metadata": {},
   "outputs": [
    {
     "data": {
      "text/plain": [
       "(350, 27)"
      ]
     },
     "execution_count": 5,
     "metadata": {},
     "output_type": "execute_result"
    }
   ],
   "source": [
    "df.shape"
   ]
  },
  {
   "cell_type": "code",
   "execution_count": null,
   "id": "4567b311",
   "metadata": {},
   "outputs": [],
   "source": [
    "df = pd.read_pickle(os.path.join(SERIALIZED, \"redfin_homes_sold_1_year.pkl\"))"
   ]
  },
  {
   "cell_type": "code",
   "execution_count": null,
   "id": "a44dcda9",
   "metadata": {},
   "outputs": [],
   "source": [
    "# filter irrelevant rows\n",
    "df = df.loc[df.CITY == \"Chicago\"]\n",
    "df = df.loc[df[\"PROPERTY TYPE\"].isin([\"Single Family Residential\", \"Condo/Co-op\", \"Multi-Family (2-4 Unit)\", \"Townhouse\"])]"
   ]
  },
  {
   "cell_type": "code",
   "execution_count": null,
   "id": "5a9781a8",
   "metadata": {},
   "outputs": [],
   "source": [
    "# drop unnecessary columns\n",
    "df.drop([\n",
    "    \"SALE TYPE\",\n",
    "    \"SOLD DATE\",\n",
    "    \"CITY\",\n",
    "    \"STATE OR PROVINCE\",\n",
    "    \"NEXT OPEN HOUSE START TIME\",\n",
    "    \"NEXT OPEN HOUSE END TIME\",\n",
    "    \"STATUS\",\n",
    "    \"SOURCE\",\n",
    "    \"FAVORITE\",\n",
    "    \"INTERESTED\"\n",
    "], axis=1, inplace=True)"
   ]
  },
  {
   "cell_type": "code",
   "execution_count": null,
   "id": "c8d55dbf",
   "metadata": {},
   "outputs": [],
   "source": [
    "# fix row with misinformation\n",
    "idx = df.loc[df[\"$/SQUARE FEET\"] > 3000].index[0]\n",
    "df.loc[idx, \"$/SQUARE FEET\"] = 600.0\n",
    "df.loc[idx, \"$/SQUARE FEET\"] = 305.0"
   ]
  },
  {
   "cell_type": "code",
   "execution_count": null,
   "id": "45407116",
   "metadata": {},
   "outputs": [],
   "source": [
    "print(df[\"$/SQUARE FEET\"].median())\n",
    "df[\"$/SQUARE FEET\"].plot(kind=\"hist\")"
   ]
  },
  {
   "cell_type": "code",
   "execution_count": null,
   "id": "314e6e97",
   "metadata": {},
   "outputs": [],
   "source": [
    "# Create a Map instance for Chicago\n",
    "m = folium.Map(location=[41.8781, -87.6298], zoom_start=10)\n",
    "\n",
    "for idx, row in df.iterrows():\n",
    "    map_functions.add_map_marker(m, row.LATITUDE, row.LONGITUDE, row[\"PRICE\"])\n",
    "    # map_functions.add_map_circle(row.LATITUDE, row.LONGITUDE)\n",
    "\n",
    "# Change the map style\n",
    "# m.add_tile_layer(tiles='Stamen Toner', name='Stamen Toner')\n",
    "\n",
    "# Display the map\n",
    "m"
   ]
  },
  {
   "cell_type": "code",
   "execution_count": null,
   "id": "d0410411",
   "metadata": {},
   "outputs": [],
   "source": [
    "df.to_pickle(os.path.join(CLEANED, \"Redfin_Listings.pkl\"))"
   ]
  }
 ],
 "metadata": {
  "kernelspec": {
   "display_name": "Python 3 (ipykernel)",
   "language": "python",
   "name": "python3"
  },
  "language_info": {
   "codemirror_mode": {
    "name": "ipython",
    "version": 3
   },
   "file_extension": ".py",
   "mimetype": "text/x-python",
   "name": "python",
   "nbconvert_exporter": "python",
   "pygments_lexer": "ipython3",
   "version": "3.10.1"
  }
 },
 "nbformat": 4,
 "nbformat_minor": 5
}

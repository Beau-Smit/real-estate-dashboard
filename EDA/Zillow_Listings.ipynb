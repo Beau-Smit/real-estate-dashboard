{
 "cells": [
  {
   "cell_type": "code",
   "execution_count": 8,
   "id": "aa108857",
   "metadata": {},
   "outputs": [],
   "source": [
    "import pandas as pd\n",
    "import numpy as np\n",
    "import os\n",
    "import folium\n",
    "import map_functions"
   ]
  },
  {
   "cell_type": "code",
   "execution_count": 9,
   "id": "c4219937",
   "metadata": {},
   "outputs": [],
   "source": [
    "ROOT = \"C:/Users/Beau/Documents/GitHub/RealEstate\"\n",
    "RAW = os.path.join(ROOT, \"data\", \"raw\")\n",
    "RAW_ZILLOW = os.path.join(RAW, \"Zillow_multifamily_sold_in_2022\")\n",
    "SERIALIZED = os.path.join(ROOT, \"data\", \"serialized\")\n",
    "CLEANED = os.path.join(ROOT, \"data\", \"processed\")"
   ]
  },
  {
   "cell_type": "code",
   "execution_count": 10,
   "id": "262942f8",
   "metadata": {},
   "outputs": [],
   "source": [
    "# combine then serialize data\n",
    "# df = pd.DataFrame()\n",
    "# for filename in os.listdir(RAW_ZILLOW):\n",
    "#     full_path = os.path.join(RAW_ZILLOW, filename)\n",
    "#     df = df.append(pd.read_csv(full_path))\n",
    "\n",
    "# df.reset_index(drop=True, inplace=True)\n",
    "# df.to_pickle(os.path.join(SERIALIZED, \"Zillow_multifamily_sold_in_2022.pkl\"))"
   ]
  },
  {
   "cell_type": "code",
   "execution_count": 11,
   "id": "0bdffc86",
   "metadata": {},
   "outputs": [],
   "source": [
    "# read serialized data\n",
    "path = os.path.join(SERIALIZED, \"Zillow_multifamily_sold_in_2022.pkl\")\n",
    "df = pd.read_pickle(path)"
   ]
  },
  {
   "cell_type": "code",
   "execution_count": 12,
   "id": "e0058f3b",
   "metadata": {},
   "outputs": [
    {
     "data": {
      "text/plain": [
       "(2494, 15)"
      ]
     },
     "execution_count": 12,
     "metadata": {},
     "output_type": "execute_result"
    }
   ],
   "source": [
    "df.shape"
   ]
  },
  {
   "cell_type": "code",
   "execution_count": 13,
   "id": "80f18d88",
   "metadata": {},
   "outputs": [],
   "source": [
    "# filter out bad rows\n",
    "\n",
    "# drop columns that are completely empty\n",
    "for col in df.columns:\n",
    "    if df[col].notnull().sum() == 0:\n",
    "        df.drop(col, axis=1, inplace=True)\n",
    "\n",
    "# only keep records with both bedrooms and bathrooms data\n",
    "df = df.loc[df.Bedrooms.notnull() & df.Bathrooms.notnull()]"
   ]
  },
  {
   "cell_type": "code",
   "execution_count": 14,
   "id": "2ec1bfc0",
   "metadata": {},
   "outputs": [],
   "source": [
    "df.reset_index(drop=True, inplace=True)\n",
    "\n",
    "df.to_pickle(os.path.join(CLEANED, \"Zillow_multifamily_sold_in_2022.pkl\"))"
   ]
  }
 ],
 "metadata": {
  "kernelspec": {
   "display_name": "Python 3 (ipykernel)",
   "language": "python",
   "name": "python3"
  },
  "language_info": {
   "codemirror_mode": {
    "name": "ipython",
    "version": 3
   },
   "file_extension": ".py",
   "mimetype": "text/x-python",
   "name": "python",
   "nbconvert_exporter": "python",
   "pygments_lexer": "ipython3",
   "version": "3.10.1"
  }
 },
 "nbformat": 4,
 "nbformat_minor": 5
}

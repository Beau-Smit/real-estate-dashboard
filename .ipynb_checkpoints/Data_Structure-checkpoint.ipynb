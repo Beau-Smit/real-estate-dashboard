{
 "cells": [
  {
   "cell_type": "markdown",
   "id": "e8f0e264",
   "metadata": {},
   "source": [
    "# Check how data is divided by location and time"
   ]
  },
  {
   "cell_type": "code",
   "execution_count": 8,
   "id": "7bbfb910",
   "metadata": {},
   "outputs": [],
   "source": [
    "import pandas as pd\n",
    "import os"
   ]
  },
  {
   "cell_type": "code",
   "execution_count": 17,
   "id": "3c23b460",
   "metadata": {},
   "outputs": [],
   "source": [
    "ROOT = \"C:/Users/Beau/Documents/GitHub/RealEstate/\""
   ]
  },
  {
   "cell_type": "code",
   "execution_count": 20,
   "id": "69ef4d61",
   "metadata": {},
   "outputs": [],
   "source": [
    "# show files in data folder\n",
    "for file_name in os.listdir(f\"{ROOT}/data/raw/\"):\n",
    "    full_path = f\"{ROOT}/data/raw/{file_name}\"\n",
    "    if file_name.endswith(\".csv\"):\n",
    "        # df = pd.read_csv(full_path)\n",
    "        # save serialized files\n",
    "        pickle_file_name = os.path.splitext(file_name)[0] + \".pkl\"\n",
    "        pickle_full_path = os.path.join(ROOT, \"data\", \"serialized\", pickle_file_name)\n",
    "        # df.to_pickle(pickle_full_path)"
   ]
  },
  {
   "cell_type": "code",
   "execution_count": 32,
   "id": "ce459811",
   "metadata": {},
   "outputs": [
    {
     "name": "stdout",
     "output_type": "stream",
     "text": [
      "Building_Permits.pkl\n",
      "Business_Licenses.pkl\n",
      "Business_Licenses_-_Current_Liquor_and_Public_Places_of_Amusement_Licenses.pkl\n",
      "Census_Data_-_Selected_socioeconomic_indicators_in_Chicago__2008___2012.pkl\n",
      "Crimes_-_2001_to_Present.pkl\n",
      "Grocery_Store_Status.pkl\n",
      "Individual_Landmarks.pkl\n",
      "Landmark_Districts.pkl\n",
      "Mural_Registry.pkl\n",
      "Neighborhood_zhvi_uc_sfrcondo_tier_0.33_0.67_sm_sa_month.pkl\n",
      "Parks_-_Public_Art.pkl\n",
      "redfin_homes_for_sale_2022-12-21-01-11-54.pkl\n",
      "Zip_zhvi_sm_sa_month_home_values.pkl\n",
      "Zip_zori_sm_sa_month_rentals_index.pkl\n"
     ]
    }
   ],
   "source": [
    "# show files in data folder\n",
    "for file_name in os.listdir(f\"{ROOT}/data/serialized/\"):\n",
    "    full_path = f\"{ROOT}/data/serialized/{file_name}\"\n",
    "#     df = pd.read_pickle(full_path)\n",
    "    print(file_name)"
   ]
  },
  {
   "cell_type": "code",
   "execution_count": null,
   "id": "81050f01",
   "metadata": {},
   "outputs": [],
   "source": []
  }
 ],
 "metadata": {
  "kernelspec": {
   "display_name": "Python 3 (ipykernel)",
   "language": "python",
   "name": "python3"
  },
  "language_info": {
   "codemirror_mode": {
    "name": "ipython",
    "version": 3
   },
   "file_extension": ".py",
   "mimetype": "text/x-python",
   "name": "python",
   "nbconvert_exporter": "python",
   "pygments_lexer": "ipython3",
   "version": "3.10.1"
  }
 },
 "nbformat": 4,
 "nbformat_minor": 5
}
